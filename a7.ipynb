{
 "cells": [
  {
   "cell_type": "markdown",
   "id": "3eb3bf31-9eed-467c-8cf3-eda3c8546176",
   "metadata": {},
   "source": [
    "# HCDE 410 - Final Project\n",
    "### Tejus Krishnan"
   ]
  },
  {
   "cell_type": "markdown",
   "id": "d04a71ea-9cad-4fca-b77a-ae710fe8e09c",
   "metadata": {},
   "source": [
    "## Introduction\n",
    "\n",
    "I'm interested in tracking worldwide progress on the COVID-19 vaccine. I'm personally drawn to the topic because I feel I have not kept myself as up-to-date on COVID data (on a societal level) as I should, and because I have friends and relatives living overseas. On a broader level, it is valuable to understand the different rates of vaccination progress between world regions in order to root out potential inequities in vaccine distribution. I am comparing vaccination data with economic and population statistics on each country to identify correlations with vaccine progress. \n",
    "\n",
    "### Background\n",
    "\n",
    "World progress on the COVID vaccine is currently being studied by a number of research and news organizations, including [Our World in Data](https://ourworldindata.org/covid-vaccinations), [Johns Hopkins University](https://coronavirus.jhu.edu/vaccines/international), and [CNN](https://www.cnn.com/interactive/2021/health/global-covid-vaccinations/). However, these public vaccine trackers simply provide information similar to what is described in my first dataset (see below), whereas I am more interested in correlating this data with a country's economic and demographic profile to discover potential correlations. I am mainly doing so to find the quantitative basis behind existing inequities in vaccine distribution, which have been covered in more policy-based reporting such as [this article by NPR](https://www.npr.org/2021/04/17/988302407/what-can-wealthy-nations-do-to-address-global-vaccine-inequity).\n",
    "\n",
    "### Hypotheses / Research Questions\n",
    "\n",
    "* Countries with a lower GDP per capita will have lower rates of vaccination.\n",
    "* Countries with greater population densities will have higher rates of vaccination.\n",
    "* What effect does migration rate have on vaccination progress?\n"
   ]
  },
  {
   "cell_type": "markdown",
   "id": "d65a98ea-2e24-4dd5-b427-1cd25bfed60d",
   "metadata": {},
   "source": [
    "## Data\n",
    "I am primarily using a Kaggle dataset called [COVID-19 World Vaccination Progress](https://www.kaggle.com/gpreda/covid-world-vaccination-progress). The dataset is a compilation (updated daily) of entries from the [Our World in Data](https://ourworldindata.org/) GitHub repository, which tracks vaccinations by country. The dataset is licensed to the public domain under the Creative Commons CC0 1.0 dedication. I find the dataset suitable for my research given its thoroughness and detail: it sorts its entries by a number of relevant variables including (but not limited to) country, date, and vaccination counts sorted by daily rate, usage, and various population proportions. I don't anticipate any privacy violations given that the data is just a series of counts and averages across countries rather than information about individuals.\n",
    "\n",
    "I am comparing this data to the [Countries of the World](https://www.kaggle.com/fernandol/countries-of-the-world) dataset, which compiles various general facts about each world nation (including GDP per capita, population, population density, and net migration). This dataset is also licensed to the public domain under Creative Commons. Cross-referencing my first dataset with this one will allow me to investigate my hypotheses and research questions."
   ]
  },
  {
   "cell_type": "markdown",
   "id": "82349562-b815-4026-a6cf-210917e9328a",
   "metadata": {},
   "source": [
    "## Methodology"
   ]
  },
  {
   "cell_type": "markdown",
   "id": "10ed5ca4-2857-4b1d-8fb0-fd3499b93168",
   "metadata": {},
   "source": [
    "Since I am analyzing correlations between the variables in the two datasets, I am performing a simple **linear regression** to model these relationships. I am representing these findings as **scatterplots**, since this is the most intuitive method for visualizing correlational data."
   ]
  },
  {
   "cell_type": "markdown",
   "id": "5f95267c-8180-421a-a0b4-aa700e52a487",
   "metadata": {},
   "source": [
    "## Findings\n",
    "XXX"
   ]
  },
  {
   "cell_type": "markdown",
   "id": "56fbb06e-917e-4dc1-9844-d550d430a6cd",
   "metadata": {},
   "source": [
    "## Discussion\n",
    "XXX"
   ]
  },
  {
   "cell_type": "markdown",
   "id": "81f8c048-45d3-4c9c-a6bd-a6a693a0c0e4",
   "metadata": {},
   "source": [
    "## Conclusion\n",
    "XXX"
   ]
  },
  {
   "cell_type": "markdown",
   "id": "cddc348e-2811-49cb-82e9-d2ab3f3488cf",
   "metadata": {},
   "source": [
    "## References\n",
    "XXX"
   ]
  },
  {
   "cell_type": "code",
   "execution_count": null,
   "id": "9536f9eb-d812-4391-9297-9cb26752ad9e",
   "metadata": {},
   "outputs": [],
   "source": []
  }
 ],
 "metadata": {
  "kernelspec": {
   "display_name": "Python 3",
   "language": "python",
   "name": "python3"
  },
  "language_info": {
   "codemirror_mode": {
    "name": "ipython",
    "version": 3
   },
   "file_extension": ".py",
   "mimetype": "text/x-python",
   "name": "python",
   "nbconvert_exporter": "python",
   "pygments_lexer": "ipython3",
   "version": "3.8.8"
  }
 },
 "nbformat": 4,
 "nbformat_minor": 5
}

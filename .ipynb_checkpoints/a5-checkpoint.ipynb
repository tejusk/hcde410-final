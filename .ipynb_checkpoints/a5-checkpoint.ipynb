{
 "cells": [
  {
   "cell_type": "markdown",
   "id": "3eb3bf31-9eed-467c-8cf3-eda3c8546176",
   "metadata": {},
   "source": [
    "# HCDE 410 - Final Project Proposal\n",
    "### Tejus Krishnan"
   ]
  },
  {
   "cell_type": "markdown",
   "id": "d04a71ea-9cad-4fca-b77a-ae710fe8e09c",
   "metadata": {},
   "source": [
    "## Motivation + Problem Statement\n",
    "\n",
    "I'm interested in tracking worldwide progress on the COVID-19 vaccine. I'm personally drawn to the topic because I feel I have not kept myself as up-to-date on COVID data (on a societal level) as I should, and because I have friends and relatives living overseas. On a broader level, it is valuable to understand the different rates of vaccination progress between world regions in order to root out potential inequities in vaccine distribution. From a scientific and sociological standpoint it would also be of interest to learn how countries' progress in recovering COVID is affecting their other, non-pandemic concerns, such as the effects of climate change."
   ]
  },
  {
   "cell_type": "markdown",
   "id": "d65a98ea-2e24-4dd5-b427-1cd25bfed60d",
   "metadata": {},
   "source": [
    "## Data\n",
    "I am using a Kaggle dataset called [COVID-19 World Vaccination Progress](https://www.kaggle.com/gpreda/covid-world-vaccination-progress). The dataset is a compilation (updated daily) of entries from the [Our World in Data](https://ourworldindata.org/) GitHub repository, which tracks vaccinations by country. The dataset is licensed to the public domain under the Creative Commons CC0 1.0 dedication. I find the dataset suitable for my research given its thoroughness and detail: it sorts its entries by a number of relevant variables including (but not limited to) country, date, and vaccination counts sorted by daily rate, usage, and various population proportions. I don't anticipate any privacy violations given that the data is just a series of counts and averages across countries rather than information about individuals."
   ]
  },
  {
   "cell_type": "markdown",
   "id": "17988965-6301-44d1-92b6-8408454c82b8",
   "metadata": {},
   "source": [
    "## Unknowns + Dependencies"
   ]
  },
  {
   "cell_type": "markdown",
   "id": "75802acf-4b18-452b-847d-16b63190ba0c",
   "metadata": {},
   "source": [
    "I intend to include a secondary component to my research identifying potential causal trends to the disparities in vaccine progress across nations. I will have to scope this analysis appropriately so that I am not answering research questions too broad to answer before the end of the quarter. Additionally, one of my unknowns is whether this dataset/research focus is too broad or generic to yield specific or novel inquiries about this issue. I may have to use additional datasets beyond just the one linked above to pursue more meaningful inquiries."
   ]
  }
 ],
 "metadata": {
  "kernelspec": {
   "display_name": "Python 3",
   "language": "python",
   "name": "python3"
  },
  "language_info": {
   "codemirror_mode": {
    "name": "ipython",
    "version": 3
   },
   "file_extension": ".py",
   "mimetype": "text/x-python",
   "name": "python",
   "nbconvert_exporter": "python",
   "pygments_lexer": "ipython3",
   "version": "3.8.8"
  }
 },
 "nbformat": 4,
 "nbformat_minor": 5
}

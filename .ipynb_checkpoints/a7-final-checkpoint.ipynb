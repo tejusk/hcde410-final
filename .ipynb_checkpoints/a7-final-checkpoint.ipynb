{
 "cells": [
  {
   "cell_type": "markdown",
   "id": "3eb3bf31-9eed-467c-8cf3-eda3c8546176",
   "metadata": {},
   "source": [
    "# HCDE 410 - Final Project\n",
    "### Tejus Krishnan"
   ]
  },
  {
   "cell_type": "markdown",
   "id": "d04a71ea-9cad-4fca-b77a-ae710fe8e09c",
   "metadata": {},
   "source": [
    "## Introduction\n",
    "\n",
    "I'm interested in tracking worldwide progress on the COVID-19 vaccine. I'm personally drawn to the topic because I feel I have not kept myself as up-to-date on COVID data (on a societal level) as I should, and because I have friends and relatives living overseas. On a broader level, it is valuable to understand the different rates of vaccination progress between world regions in order to root out potential inequities in vaccine distribution. I am comparing vaccination data with economic and population statistics on each country to identify correlations with vaccine progress. \n",
    "\n",
    "### Background\n",
    "\n",
    "World progress on the COVID vaccine is currently being studied by a number of research and news organizations, including [Our World in Data](https://ourworldindata.org/covid-vaccinations), [Johns Hopkins University](https://coronavirus.jhu.edu/vaccines/international), and [CNN](https://www.cnn.com/interactive/2021/health/global-covid-vaccinations/). However, these public vaccine trackers simply provide information similar to what is described in my first dataset (see below), whereas I am more interested in correlating this data with a country's economic and demographic profile to discover potential correlations. I am mainly doing so to find the quantitative basis behind existing inequities in vaccine distribution, which have been covered in more policy-based reporting such as [this article by NPR](https://www.npr.org/2021/04/17/988302407/what-can-wealthy-nations-do-to-address-global-vaccine-inequity).\n",
    "\n",
    "### Hypotheses / Research Questions\n",
    "\n",
    "* A country's GDP per capita will be positively correlated with its vaccine progress.\n",
    "* What effect does migration rate have on vaccination progress?\n"
   ]
  },
  {
   "cell_type": "markdown",
   "id": "b82ba291-0d7c-41b4-921a-16d734f1276c",
   "metadata": {},
   "source": [
    "## Data\n",
    "I am primarily using a Kaggle dataset called [COVID-19 World Vaccination Progress](https://www.kaggle.com/gpreda/covid-world-vaccination-progress). The dataset is a compilation (updated daily) of entries from the [Our World in Data](https://ourworldindata.org/) GitHub repository, which tracks vaccinations by country. The dataset is licensed to the public domain under the Creative Commons CC0 1.0 dedication. I find the dataset suitable for my research given its thoroughness and detail: it sorts its entries by a number of relevant variables including (but not limited to) country, date, and vaccination counts sorted by daily rate, usage, and various population proportions. I don't anticipate any privacy violations given that the data is just a series of counts and averages across countries rather than information about individuals.\n",
    "\n",
    "I am comparing this data to the [Countries of the World](https://www.kaggle.com/fernandol/countries-of-the-world) dataset, which compiles various general facts about each world nation (including GDP per capita, population, population density, and net migration). This dataset is also licensed to the public domain under Creative Commons. Cross-referencing my first dataset with this one will allow me to investigate my hypotheses and research questions."
   ]
  },
  {
   "cell_type": "markdown",
   "id": "82349562-b815-4026-a6cf-210917e9328a",
   "metadata": {},
   "source": [
    "## Methodology"
   ]
  },
  {
   "cell_type": "markdown",
   "id": "10ed5ca4-2857-4b1d-8fb0-fd3499b93168",
   "metadata": {},
   "source": [
    "#### Data Cleaning\n",
    "\n",
    "All management of data was done through Microsoft Excel. My first step was to isolate the ``country_vaccinations`` dataset to only include the most recent total vaccinations for each country. I did this by first eliminating all blank rows from the ``total_vaccinations`` column, and saving that sheet in a separate file. I then isolated only the most recent entries for each country from this sheet and copied those entries to a second page on the sheet titled ``most_recent_total_vaccinations``, which gave me 214 entries to work with. This was 14 short of the 228 countries on the ``countries of the world`` dataset, which meant that there are 14 countries for which COVID vaccination data has not been recorded.\n",
    "\n",
    "Unfortunately, this meant that I could not perform analyses on these 14 countries since there was no way for me to cross-reference information between datasets without the countries directly matching. Hence, I combined the two datasets (``most_recent_total_vaccinations`` and ``countries of the world``) into a single sheet, selected the columns representing country names for each respective dataset, and then highlighted unique values between the two to identify the mismatching countries. Controlling for spelling differences (ex: \"Boznia **and** Herzegovina\" as opposed to \"Bosnia **&** Herzegovina\"), I deleted the data from the rows where a country was not represented in both datasets. This ensured that the data between the two sets was aligned to the same countries. To verify, I added an extra column in the combined sheet and entered the formula `=A1=L1`, then applied it down the entire sheet. The formula returned `TRUE` for every row, which meant that the country data between the two datasets was correctly aligned.\n",
    "\n",
    "One additional piece of cleaning was to express all decimals in American notation so that Excel would recognize the values as numbers. The ``countries of the world`` dataset writes out the decimals using a comma, which is European notation. I used Excel's Find & Replace tool to adjust this.\n",
    "\n",
    "#### Data Analysis\n",
    "\n",
    "Now that I had a combined spreadsheet with data aligned to each country, it was simply a matter of isolating my columns of interest and generating linear regression graphs based on that data. Based on my research questions/hypotheses, the column pairs I compared were ``total_vaccinations`` vs. ``GDP ($ per capita)`` and ``total vaccinations`` vs. ``Net Migration``."
   ]
  },
  {
   "cell_type": "markdown",
   "id": "5f95267c-8180-421a-a0b4-aa700e52a487",
   "metadata": {},
   "source": [
    "## Findings\n",
    "#### GDP Per Capita vs. Vaccination Rate\n",
    "![GDP vs. Vaccinations](data/Graph1.png)\n",
    "\n",
    "#### Net Migration vs. Vaccination Rate\n",
    "![Migration vs. Vaccinations](data/Graph3.png)\n",
    "\n",
    "As we can see, GDP per capita does indeed predict vaccination progress, with an R-squared value of 0.3604. There were two significant outliers: one was Gibraltar, which had a GDP per capita of only $\\$$17,500 but had a per-hundred vaccination rate of 116. The other was Luxembourg, with an opposite situation: a high GDP per capita ($\\$$55,100), but only 36.43 people vaccinated per hundred. \n",
    "\n",
    "As for the effect of net migration, there does appear to be a positive correlation, albeit a weak one, with an R-squared of 0.0977. Most of the data points seem to be concentrated around the Y-axis, which appears to reflect reduced rates of migration during COVID-19."
   ]
  },
  {
   "cell_type": "markdown",
   "id": "56fbb06e-917e-4dc1-9844-d550d430a6cd",
   "metadata": {},
   "source": [
    "## Discussion\n",
    "Based on my data visualizations, it appears clear that a country's economic health predicts its ongoing progress with administering the COVID-19 vaccine. This is consistent with [ongoing reporting](https://www.news-medical.net/news/20210217/GDP-significantly-associated-with-greater-COVID-19-vaccine-distribution.aspx) on vaccine distribution, which surmises that high GDPs promote the creation, testing and distribution of vaccines. It also underscores the need for wealthier countries to use their power and resources to help poorer countries immunize at a faster rate. However, one interesting point of possible cause for the economic disparities in vaccine distribution could have to do with the deals reached by wealthier countries for vaccine doses, as [investigated in this report from *The New York Times*](https://www.nytimes.com/interactive/2021/03/31/world/global-vaccine-supply-inequity.html). The report discusses how richer countries had the means to order multiple vaccines, absorbing doses that smaller countries may have otherwise purchased (essentially turning immunization into a race to \"pre-order\" vaccines). This is obviously not the sole cause for inequities in vaccine distribution, but it is notable to observe how countries already endowed with vast resources still exploit their power to fast-track their immunization at the expense of smaller nations.\n",
    "\n",
    "That said, certain outliers exist, such as Gibraltar, which [vaccinated most of its adults by April](https://www.nytimes.com/interactive/2021/03/31/world/global-vaccine-supply-inequity.html) and has since enjoyed a resurgence in public life. Given the relatively small population of the territory, it's no surprise that its \"people vaccinated per hundred\" score would be disproportionately high. However, its staggeringly effective vaccine rollout is still a notable achievement - a possible explanation is that the territory is not an independent economy but rather a British territory.\n",
    "\n",
    "As for the migration data, the relationship was less clear than with GDP, so I believe my analysis alone presents fewer opportunities for discussion. However, it is worth noting the [various barriers](https://www.nilc.org/2021/04/12/immigrant-access-to-the-covid-19-vaccines/) that exist for immigrants' access to healthcare and immunization, and what role this may have played in the statistics I observed. Perhaps there are vast disparities across the world for how much access is afforded to migrants to get vaccinated. The other possible causal thread is reduced rates of migration during the pandemic.\n",
    "\n",
    "This study had a number of limitations, most notably the mismatch between the datasets and the resulting omissions I was forced to make in order to standardize the data. At least ten nations were missed in the analysis as a result; there was also Palestine, which was reported as a single entity in the ``country_vaccinations`` dataset but split into the West Bank and the Gaza Strip in the ``countries of the world`` set. Because I could not simply \"combine\" the data from those two rows, I was also forced to count Palestine as a mismatch even though both datasets technically accounted for it. If I were to iterate on this project, I would certainly find alternative means to analyze COVID data for the countries omitted from this analysis."
   ]
  },
  {
   "cell_type": "markdown",
   "id": "81f8c048-45d3-4c9c-a6bd-a6a693a0c0e4",
   "metadata": {},
   "source": [
    "## Conclusion\n",
    "With this project, I set out to get a sharper quantitative understanding of vaccination progress worldwide, as I felt I was solely focusing on vaccine rollout within my own community and was insufficiently informed of the wider global picture. I'm happy to have made good on that opportunity here, at least to the extent to which I analyzed my data for this project. Given the complexity of the subject and the various dimensions along which a country's profile can be constructed (in relation to its vaccine progress), I stuck to two simple research questions given that the paradigm for performing the analysis was the same regardless of what variables I was analyzing. However, based on the limitations I encountered in the study, I would certainly collect more data, either in the form of actual datasets or more external research (particularly to account for the nations I was unable to analyze in this project). Furthermore, I would iterate on this study by conducting a deeper *qualitative* exploration of vaccine progress in the countries whose data points particularly stood out to me, including the outliers I named in the discussion section. I believe the project as it stands to be a stepping stone for a broader analysis on the differences in how various parts of the world are fighting the pandemic."
   ]
  }
 ],
 "metadata": {
  "kernelspec": {
   "display_name": "Python 3",
   "language": "python",
   "name": "python3"
  },
  "language_info": {
   "codemirror_mode": {
    "name": "ipython",
    "version": 3
   },
   "file_extension": ".py",
   "mimetype": "text/x-python",
   "name": "python",
   "nbconvert_exporter": "python",
   "pygments_lexer": "ipython3",
   "version": "3.8.8"
  }
 },
 "nbformat": 4,
 "nbformat_minor": 5
}
